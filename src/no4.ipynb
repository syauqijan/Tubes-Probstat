{
 "cells": [
  {
   "cell_type": "code",
   "execution_count": null,
   "metadata": {},
   "outputs": [],
   "source": [
    "# TUGAS BESAR IF2220 PROBABILITAS DAN STATISTIKA\n",
    "# ANGGOTA KELOMPOK:\n",
    "# 1. 13521014 - M. Syauqi Jannatan\n",
    "# 2. 13521016 - Laila Bilbina\n",
    "# Kelas : K03"
   ]
  },
  {
   "cell_type": "code",
   "execution_count": 9,
   "metadata": {},
   "outputs": [
    {
     "name": "stdout",
     "output_type": "stream",
     "text": [
      "a. Menolak hipotesis null (rata-rata pH <= 3.29) mendukung hipotesis alternatif (rata-rata pH > 3.29), dengan nilai p = 2.197958306386009e-05\n"
     ]
    }
   ],
   "source": [
    "import pandas as pd\n",
    "from scipy.stats import ttest_1samp\n",
    "\n",
    "file = pd.read_csv('../data/anggur.csv')\n",
    "\n",
    "# a. Nilai rata-rata pH di atas 3.29?\n",
    "\n",
    "# set hipothesis\n",
    "baw = \"rata-rata pH <= 3.29\"\n",
    "ats = \"rata-rata pH > 3.29\"\n",
    "\n",
    "# calculate test statistic and p-value\n",
    "testStat, pValue = ttest_1samp(file['pH'], 3.29, alternative='greater')\n",
    "\n",
    "# set alpha\n",
    "alpha = 0.05\n",
    "\n",
    "#print result\n",
    "if pValue < alpha:\n",
    "    print(f\"a. Menolak hipotesis null ({baw}) mendukung hipotesis alternatif ({ats}), dengan nilai p = {pValue}\")\n",
    "else:\n",
    "    print(f\"a. Tidak menolak hipotesis null ({baw}), dengan nilai p = {pValue}\")"
   ]
  },
  {
   "cell_type": "code",
   "execution_count": 8,
   "metadata": {},
   "outputs": [
    {
     "name": "stdout",
     "output_type": "stream",
     "text": [
      "a. Menolak hipotesis null (rata-rata Residual Sugar = 2.50) mendukung hipotesis alternatif (rata-rata Residual Sugar != 2.50), dengan nilai p = 0.03195672670861676\n"
     ]
    }
   ],
   "source": [
    "import pandas as pd\n",
    "from scipy.stats import ttest_1samp\n",
    "\n",
    "file = pd.read_csv('../data/anggur.csv')\n",
    "\n",
    "# b. Nilai rata-rata Residual Sugar tidak sama dengan 2.50?\n",
    "\n",
    "# set hipothesis\n",
    "baw = \"rata-rata Residual Sugar = 2.50\"\n",
    "ats = \"rata-rata Residual Sugar != 2.50\"\n",
    "\n",
    "# calculate test statistic and p-value\n",
    "testStat, pValue = ttest_1samp(file['residual sugar'], 2.50)\n",
    "\n",
    "# set alpha\n",
    "alpha = 0.05\n",
    "\n",
    "# print result\n",
    "if pValue < alpha:\n",
    "    print(f\"a. Menolak hipotesis null ({baw}) mendukung hipotesis alternatif ({ats}), dengan nilai p = {pValue}\")\n",
    "else:\n",
    "    print(f\"a. Tidak menolak hipotesis null ({baw}), dengan nilai p = {pValue}\")"
   ]
  },
  {
   "cell_type": "code",
   "execution_count": 7,
   "metadata": {},
   "outputs": [
    {
     "name": "stdout",
     "output_type": "stream",
     "text": [
      "a. Menolak hipotesis null (rata-rata sulphates = 0.65) mendukung hipotesis alternatif (rata-rata sulphates != 0.65), dengan nilai p = 1.8590151212371923e-06\n"
     ]
    }
   ],
   "source": [
    "import pandas as pd\n",
    "from scipy.stats import ttest_1samp\n",
    "\n",
    "file = pd.read_csv('../data/anggur.csv')\n",
    "\n",
    "# c. Nilairata-rata 150 baris pertama kolom sulphates bukan 0.65?\n",
    "\n",
    "# set hipothesis\n",
    "baw = \"rata-rata sulphates = 0.65\"\n",
    "ats = \"rata-rata sulphates != 0.65\"\n",
    "\n",
    "# extract first 150 rows of sulphates column\n",
    "sulphates = file.loc[:149, 'sulphates']\n",
    "\n",
    "# calculate test statistic and p-value\n",
    "testStat, pValue = ttest_1samp(sulphates, 0.65)\n",
    "\n",
    "# set alpha\n",
    "alpha = 0.05\n",
    "\n",
    "# print result\n",
    "if pValue < alpha:\n",
    "    print(f\"a. Menolak hipotesis null ({baw}) mendukung hipotesis alternatif ({ats}), dengan nilai p = {pValue}\")\n",
    "else:\n",
    "    print(f\"a. Tidak menolak hipotesis null ({baw}), dengan nilai p = {pValue}\")"
   ]
  },
  {
   "cell_type": "code",
   "execution_count": 6,
   "metadata": {},
   "outputs": [
    {
     "name": "stdout",
     "output_type": "stream",
     "text": [
      "a. Tidak menolak hipotesis null (rata-rata total sulfur dioxide >= 35), dengan nilai p = 1.0\n"
     ]
    }
   ],
   "source": [
    "import pandas as pd\n",
    "from scipy.stats import ttest_1samp\n",
    "\n",
    "file = pd.read_csv('../data/anggur.csv')\n",
    "\n",
    "# d. Nilai rata-rata total sulfur dioxide di bawah 35?\n",
    "\n",
    "# set hipothesis\n",
    "baw = \"rata-rata total sulfur dioxide >= 35\"\n",
    "ats = \"rata-rata total sulfur dioxide < 35\"\n",
    "\n",
    "# calculate test statistic and p-value\n",
    "testStat, pValue = ttest_1samp(file['total sulfur dioxide'], 35, alternative='less')\n",
    "\n",
    "# set alpha level\n",
    "alpha = 0.05\n",
    "\n",
    "# print results\n",
    "if pValue < alpha:\n",
    "    print(f\"a. Menolak hipotesis null ({baw}) mendukung hipotesis alternatif ({ats}), dengan nilai p = {pValue}\")\n",
    "else:\n",
    "    print(f\"a. Tidak menolak hipotesis null ({baw}), dengan nilai p = {pValue}\")"
   ]
  },
  {
   "cell_type": "code",
   "execution_count": 11,
   "metadata": {},
   "outputs": [
    {
     "name": "stdout",
     "output_type": "stream",
     "text": [
      "e. Tidak menolak hipotesis null (proporsi nilai total sulfur dioxide <= 40 = 50%), dengan nilai p = 0.17871816775490118\n"
     ]
    }
   ],
   "source": [
    "import pandas as pd\n",
    "from scipy.stats import ttest_1samp\n",
    "\n",
    "file = pd.read_csv('../data/anggur.csv')\n",
    "\n",
    "# e. Proporsi nilai total sulfur dioxide yang lebih dari 40, adalah tidak sama dengan 50% ?\n",
    "\n",
    "# set hipothesis\n",
    "baw = \"proporsi nilai total sulfur dioxide <= 40 = 50%\"\n",
    "ats = \"proporsi nilai total sulfur dioxide > 40 != 50%\"\n",
    "\n",
    "# calculate test statistic and p-value\n",
    "testStat, pValue = ttest_1samp(file['total sulfur dioxide'], 40, alternative='greater')\n",
    "\n",
    "# \n",
    "\n",
    "# set alpha level\n",
    "alpha = 0.05\n",
    "\n",
    "# print results\n",
    "if pValue < alpha:\n",
    "    print(f\"e. Menolak hipotesis null ({baw}) mendukung hipotesis alternatif ({ats}), dengan nilai p = {pValue}\")\n",
    "else:\n",
    "    print(f\"e. Tidak menolak hipotesis null ({baw}), dengan nilai p = {pValue}\")\n"
   ]
  }
 ],
 "metadata": {
  "kernelspec": {
   "display_name": "Python 3",
   "language": "python",
   "name": "python3"
  },
  "language_info": {
   "codemirror_mode": {
    "name": "ipython",
    "version": 3
   },
   "file_extension": ".py",
   "mimetype": "text/x-python",
   "name": "python",
   "nbconvert_exporter": "python",
   "pygments_lexer": "ipython3",
   "version": "3.9.13"
  },
  "orig_nbformat": 4
 },
 "nbformat": 4,
 "nbformat_minor": 2
}
