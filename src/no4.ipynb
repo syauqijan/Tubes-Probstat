{
 "cells": [
  {
   "attachments": {},
   "cell_type": "markdown",
   "metadata": {},
   "source": [
    "### NO 4\n",
    "Melakukan test hipotesis 1 sampel"
   ]
  },
  {
   "cell_type": "code",
   "execution_count": 31,
   "metadata": {},
   "outputs": [
    {
     "name": "stdout",
     "output_type": "stream",
     "text": [
      "Nilai z adalah 4.104\n",
      "Nilai z_alpha adalah 1.645\n",
      "Nilai p adalah 0.0\n",
      "a. Menolak hipotesis null (rata-rata pH <= 3.29) mendukung hipotesis alternatif (rata-rata pH > 3.29), dengan nilai p = 4.0645260086604666e-05\n"
     ]
    }
   ],
   "source": [
    "import pandas as pd\n",
    "import scipy.stats as st\n",
    "import pandas as pd\n",
    "import matplotlib.pyplot as plt\n",
    "from scipy.stats import ttest_1samp\n",
    "from statsmodels.stats.weightstats import ztest\n",
    "from statsmodels.stats.proportion import proportions_ztest\n",
    "\n",
    "file = pd.read_csv('../data/anggur.csv')\n",
    "\n",
    "# a. Nilai rata-rata pH di atas 3.29?\n",
    "\n",
    "# set hipothesis\n",
    "baw = \"rata-rata pH <= 3.29\"\n",
    "ats = \"rata-rata pH > 3.29\"\n",
    "\n",
    "# calculate test statistic and p-value\n",
    "testStat, pValue = ttest_1samp(file['pH'], 3.29, alternative='greater')\n",
    "\n",
    "mean = 3.29\n",
    "z, p = ztest(file[\"pH\"], value=mean)\n",
    "\n",
    "alpha = 0.05\n",
    "z_a = st.norm.ppf(1- alpha)\n",
    "\n",
    "print(f\"Nilai z adalah {round(z, 3)}\")\n",
    "print(f\"Nilai z_alpha adalah {round(z_a, 3)}\")\n",
    "print(f\"Nilai p adalah {round(p, 3)}\")\n",
    "#print result\n",
    "if z > z_a and p < alpha:\n",
    "    print(f\"a. Menolak hipotesis null ({baw}) mendukung hipotesis alternatif ({ats}), dengan nilai p = {p}\")\n",
    "else:\n",
    "    print(f\"a. Tidak menolak hipotesis null ({baw}), dengan nilai p = {p}\")"
   ]
  },
  {
   "cell_type": "code",
   "execution_count": 38,
   "metadata": {},
   "outputs": [
    {
     "name": "stdout",
     "output_type": "stream",
     "text": [
      "Nilai z adalah 2.148\n",
      "Nilai z_alpha/2 adalah 1.96\n",
      "Nilai p adalah 0.032\n",
      "b. Menolak hipotesis null (rata-rata Residual Sugar = 2.50) mendukung hipotesis alternatif (rata-rata Residual Sugar != 2.50), dengan nilai p = 0.031716778818727434\n"
     ]
    }
   ],
   "source": [
    "import pandas as pd\n",
    "import scipy.stats as st\n",
    "import pandas as pd\n",
    "import matplotlib.pyplot as plt\n",
    "from scipy.stats import ttest_1samp\n",
    "from statsmodels.stats.weightstats import ztest\n",
    "from statsmodels.stats.proportion import proportions_ztest\n",
    "\n",
    "file = pd.read_csv('../data/anggur.csv')\n",
    "\n",
    "# b. Nilai rata-rata Residual Sugar tidak sama dengan 2.50?\n",
    "\n",
    "# set hipothesis\n",
    "baw = \"rata-rata Residual Sugar = 2.50\"\n",
    "ats = \"rata-rata Residual Sugar != 2.50\"\n",
    "\n",
    "# calculate test statistic and p-value\n",
    "testStat, pValue = ttest_1samp(file['residual sugar'], 2.50)\n",
    "\n",
    "mean = 2.5\n",
    "z, p = ztest(file[\"residual sugar\"], value=mean)\n",
    "\n",
    "alpha = 0.05\n",
    "z_a = st.norm.ppf(1- alpha / 2)\n",
    "\n",
    "# print result\n",
    "print(f\"Nilai z adalah {round(z, 3)}\")\n",
    "print(f\"Nilai z_alpha/2 adalah {round(z_a, 3)}\")\n",
    "print(f\"Nilai p adalah {round(p, 3)}\")\n",
    "if z > z_a and p < alpha:\n",
    "    print(f\"b. Menolak hipotesis null ({baw}) mendukung hipotesis alternatif ({ats}), dengan nilai p = {p}\")\n",
    "else:\n",
    "    print(f\"b. Tidak menolak hipotesis null ({baw}), dengan nilai p = {p}\")"
   ]
  },
  {
   "cell_type": "code",
   "execution_count": 37,
   "metadata": {},
   "outputs": [
    {
     "name": "stdout",
     "output_type": "stream",
     "text": [
      "Nilai z adalah -16.188\n",
      "Nilai z_alpha/2 adalah 1.96\n",
      "Nilai p adalah 0.0\n",
      "c. Tidak menolak hipotesis null (rata-rata sulphates = 0.65), dengan nilai p = 6.135370655568917e-59\n"
     ]
    }
   ],
   "source": [
    "import pandas as pd\n",
    "import scipy.stats as st\n",
    "import pandas as pd\n",
    "import matplotlib.pyplot as plt\n",
    "from scipy.stats import ttest_1samp\n",
    "from statsmodels.stats.weightstats import ztest\n",
    "from statsmodels.stats.proportion import proportions_ztest\n",
    "\n",
    "file = pd.read_csv('../data/anggur.csv')\n",
    "\n",
    "# c. Nilairata-rata 150 baris pertama kolom sulphates bukan 0.65?\n",
    "\n",
    "# set hipothesis\n",
    "baw = \"rata-rata sulphates = 0.65\"\n",
    "ats = \"rata-rata sulphates != 0.65\"\n",
    "\n",
    "# extract first 150 rows of sulphates column\n",
    "sulphates = file.loc[:149, 'sulphates']\n",
    "\n",
    "# calculate test statistic and p-value\n",
    "testStat, pValue = ttest_1samp(sulphates, 0.65)\n",
    "\n",
    "mean = 0.65\n",
    "z, p = ztest(file[\"sulphates\"], value=mean)\n",
    "\n",
    "alpha = 0.05\n",
    "z_a = st.norm.ppf(1- alpha / 2)\n",
    "\n",
    "# print result\n",
    "print(f\"Nilai z adalah {round(z, 3)}\")\n",
    "print(f\"Nilai z_alpha/2 adalah {round(z_a, 3)}\")\n",
    "print(f\"Nilai p adalah {round(p, 3)}\")\n",
    "if z > z_a and p < alpha:\n",
    "    print(f\"c. Menolak hipotesis null ({baw}) mendukung hipotesis alternatif ({ats}), dengan nilai p = {p}\")\n",
    "else:\n",
    "    print(f\"c. Tidak menolak hipotesis null ({baw}), dengan nilai p = {p}\")"
   ]
  },
  {
   "cell_type": "code",
   "execution_count": 34,
   "metadata": {},
   "outputs": [
    {
     "name": "stdout",
     "output_type": "stream",
     "text": [
      "Nilai z adalah 16.786\n",
      "Nilai z_alpha/2 adalah 1.645\n",
      "Nilai p adalah 0.0\n",
      "d. Menolak hipotesis null (rata-rata total sulfur dioxide >= 35) mendukung hipotesis alternatif (rata-rata total sulfur dioxide < 35), dengan nilai p = 3.0697091948172274e-63\n"
     ]
    }
   ],
   "source": [
    "import pandas as pd\n",
    "import scipy.stats as st\n",
    "import pandas as pd\n",
    "import matplotlib.pyplot as plt\n",
    "from scipy.stats import ttest_1samp\n",
    "from statsmodels.stats.weightstats import ztest\n",
    "from statsmodels.stats.proportion import proportions_ztest\n",
    "\n",
    "file = pd.read_csv('../data/anggur.csv')\n",
    "\n",
    "# d. Nilai rata-rata total sulfur dioxide di bawah 35?\n",
    "\n",
    "# set hipothesis\n",
    "baw = \"rata-rata total sulfur dioxide >= 35\"\n",
    "ats = \"rata-rata total sulfur dioxide < 35\"\n",
    "\n",
    "# calculate test statistic and p-value\n",
    "testStat, pValue = ttest_1samp(file['total sulfur dioxide'], 35, alternative='less')\n",
    "\n",
    "mean = 35\n",
    "z, p = ztest(file[\"total sulfur dioxide\"], value=mean)\n",
    "\n",
    "alpha = 0.05\n",
    "z_a = st.norm.ppf(1- alpha)\n",
    "\n",
    "# print result\n",
    "print(f\"Nilai z adalah {round(z, 3)}\")\n",
    "print(f\"Nilai z_alpha/2 adalah {round(z_a, 3)}\")\n",
    "print(f\"Nilai p adalah {round(p, 3)}\")\n",
    "if z > z_a and p < alpha:\n",
    "    print(f\"d. Menolak hipotesis null ({baw}) mendukung hipotesis alternatif ({ats}), dengan nilai p = {p}\")\n",
    "else:\n",
    "    print(f\"d. Tidak menolak hipotesis null ({baw}), dengan nilai p = {p}\")"
   ]
  },
  {
   "cell_type": "code",
   "execution_count": 36,
   "metadata": {},
   "outputs": [
    {
     "name": "stdout",
     "output_type": "stream",
     "text": [
      "Nilai z adalah 0.759\n",
      "Nilai z_alpha/2 adalah 1.96\n",
      "Nilai p adalah 0.448\n",
      "e. Tidak menolak hipotesis null (proporsi nilai total sulfur dioxide <= 40 = 50%), dengan nilai p = 0.4478844782641115\n"
     ]
    }
   ],
   "source": [
    "import pandas as pd\n",
    "import scipy.stats as st\n",
    "import pandas as pd\n",
    "import matplotlib.pyplot as plt\n",
    "from scipy.stats import ttest_1samp\n",
    "from statsmodels.stats.weightstats import ztest\n",
    "from statsmodels.stats.proportion import proportions_ztest\n",
    "\n",
    "file = pd.read_csv('../data/anggur.csv')\n",
    "\n",
    "# e. Proporsi nilai total sulfur dioxide yang lebih dari 40, adalah tidak sama dengan 50% ?\n",
    "\n",
    "# set hipothesis\n",
    "baw = \"proporsi nilai total sulfur dioxide <= 40 = 50%\"\n",
    "ats = \"proporsi nilai total sulfur dioxide > 40 != 50%\"\n",
    "\n",
    "# calculate test statistic and p-value\n",
    "testStat, pValue = ttest_1samp(file['total sulfur dioxide'], 40, alternative='greater')\n",
    "testprop = len(file[file[\"total sulfur dioxide\"] > 40])\n",
    "p0 = 0.5\n",
    "z, p = proportions_ztest(testprop, len(file), value = p0, prop_var = p0)\n",
    "\n",
    "\n",
    "alpha = 0.05\n",
    "z_a = st.norm.ppf(1- alpha/2)\n",
    "\n",
    "# print result\n",
    "print(f\"Nilai z adalah {round(z, 3)}\")\n",
    "print(f\"Nilai z_alpha/2 adalah {round(z_a, 3)}\")\n",
    "print(f\"Nilai p adalah {round(p, 3)}\")\n",
    "if z > z_a and p < alpha:\n",
    "    print(f\"e. Menolak hipotesis null ({baw}) mendukung hipotesis alternatif ({ats}), dengan nilai p = {p}\")\n",
    "else:\n",
    "    print(f\"e. Tidak menolak hipotesis null ({baw}), dengan nilai p = {p}\")\n"
   ]
  }
 ],
 "metadata": {
  "kernelspec": {
   "display_name": "Python 3",
   "language": "python",
   "name": "python3"
  },
  "language_info": {
   "codemirror_mode": {
    "name": "ipython",
    "version": 3
   },
   "file_extension": ".py",
   "mimetype": "text/x-python",
   "name": "python",
   "nbconvert_exporter": "python",
   "pygments_lexer": "ipython3",
   "version": "3.9.6"
  },
  "orig_nbformat": 4
 },
 "nbformat": 4,
 "nbformat_minor": 2
}
