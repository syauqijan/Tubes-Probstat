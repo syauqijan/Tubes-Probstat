{
 "cells": [
  {
   "cell_type": "code",
   "execution_count": null,
   "metadata": {},
   "outputs": [],
   "source": [
    "# TUGAS BESAR IF2220 PROBABILITAS DAN STATISTIKA\n",
    "# ANGGOTA KELOMPOK:\n",
    "# 1. 13521014 - M. Syauqi Jannatan\n",
    "# 2. 13521016 - Laila Bilbina\n",
    "# Kelas : K03"
   ]
  },
  {
   "cell_type": "code",
   "execution_count": 2,
   "metadata": {},
   "outputs": [
    {
     "name": "stdout",
     "output_type": "stream",
     "text": [
      "a. Reject null hypothesis (mean pH <= 3.29) in favor of alternative hypothesis (mean pH > 3.29), with p-value = 2.197958306386009e-05\n"
     ]
    }
   ],
   "source": [
    "import pandas as pd\n",
    "from scipy.stats import ttest_1samp\n",
    "\n",
    "file = pd.read_csv('../data/anggur.csv')\n",
    "\n",
    "# a. Nilai rata-rata pH di atas 3.29?\n",
    "\n",
    "# set hipothesis\n",
    "baw = \"mean pH <= 3.29\"\n",
    "ats = \"mean pH > 3.29\"\n",
    "\n",
    "# calculate test statistic and p-value\n",
    "testStat, pValue = ttest_1samp(file['pH'], 3.29, alternative='greater')\n",
    "\n",
    "# set alpha\n",
    "alpha = 0.05\n",
    "\n",
    "#print result\n",
    "if pValue < alpha:\n",
    "    print(f\"a. Reject null hypothesis ({baw}) in favor of alternative hypothesis ({ats}), with p-value = {pValue}\")\n",
    "else:\n",
    "    print(f\"a. Fail to reject null hypothesis ({baw}), with p-value = {pValue}\")"
   ]
  },
  {
   "cell_type": "code",
   "execution_count": 4,
   "metadata": {},
   "outputs": [
    {
     "name": "stdout",
     "output_type": "stream",
     "text": [
      "b. Reject null hypothesis (mean Residual Sugar = 2.50) in favor of alternative hypothesis (mean Residual Sugar != 2.50), with p-value = 0.03195672670861676\n"
     ]
    }
   ],
   "source": [
    "import pandas as pd\n",
    "from scipy.stats import ttest_1samp\n",
    "\n",
    "file = pd.read_csv('../data/anggur.csv')\n",
    "\n",
    "# b. Nilai rata-rata Residual Sugar tidak sama dengan 2.50?\n",
    "\n",
    "# set hipothesis\n",
    "baw = \"mean Residual Sugar = 2.50\"\n",
    "ats = \"mean Residual Sugar != 2.50\"\n",
    "\n",
    "# calculate test statistic and p-value\n",
    "testStat, pValue = ttest_1samp(file['residual sugar'], 2.50)\n",
    "\n",
    "# set alpha\n",
    "alpha = 0.05\n",
    "\n",
    "# print result\n",
    "if pValue < alpha:\n",
    "    print(f\"b. Reject null hypothesis ({baw}) in favor of alternative hypothesis ({ats}), with p-value = {pValue}\")\n",
    "else:\n",
    "    print(f\"b. Fail to reject null hypothesis ({baw}), with p-value = {pValue}\")"
   ]
  },
  {
   "cell_type": "code",
   "execution_count": 2,
   "metadata": {},
   "outputs": [
    {
     "name": "stdout",
     "output_type": "stream",
     "text": [
      "c. Reject null hypothesis (mean sulphates = 0.65) in favor of alternative hypothesis (mean sulphates != 0.65), with p-value = 1.8590151212371923e-06\n"
     ]
    }
   ],
   "source": [
    "import pandas as pd\n",
    "from scipy.stats import ttest_1samp\n",
    "\n",
    "file = pd.read_csv('../data/anggur.csv')\n",
    "\n",
    "# c. Nilairata-rata 150 baris pertama kolom sulphates bukan 0.65?\n",
    "\n",
    "# set hipothesis\n",
    "baw = \"mean sulphates = 0.65\"\n",
    "ats = \"mean sulphates != 0.65\"\n",
    "\n",
    "# extract first 150 rows of sulphates column\n",
    "sulphates = file.loc[:149, 'sulphates']\n",
    "\n",
    "# calculate test statistic and p-value\n",
    "testStat, pValue = ttest_1samp(sulphates, 0.65)\n",
    "\n",
    "# set alpha\n",
    "alpha = 0.05\n",
    "\n",
    "# print result\n",
    "if pValue < alpha:\n",
    "    print(f\"c. Reject null hypothesis ({baw}) in favor of alternative hypothesis ({ats}), with p-value = {pValue}\")\n",
    "else:\n",
    "    print(f\"c. Fail to reject null hypothesis ({baw}), with p-value = {pValue}\")"
   ]
  },
  {
   "cell_type": "code",
   "execution_count": 1,
   "metadata": {},
   "outputs": [
    {
     "name": "stdout",
     "output_type": "stream",
     "text": [
      "d. Fail to reject null hypothesis (mean total sulfur dioxide >= 35), with p-value = 1.0\n"
     ]
    }
   ],
   "source": [
    "import pandas as pd\n",
    "from scipy.stats import ttest_1samp\n",
    "\n",
    "file = pd.read_csv('../data/anggur.csv')\n",
    "\n",
    "# d. Nilai rata-rata total sulfur dioxide di bawah 35?\n",
    "\n",
    "# set hipothesis\n",
    "baw = \"mean total sulfur dioxide >= 35\"\n",
    "ats = \"mean total sulfur dioxide < 35\"\n",
    "\n",
    "# calculate test statistic and p-value\n",
    "testStat, pValue = ttest_1samp(file['total sulfur dioxide'], 35, alternative='less')\n",
    "\n",
    "# set alpha level\n",
    "alpha = 0.05\n",
    "\n",
    "# print results\n",
    "if pValue < alpha:\n",
    "    print(f\"d. Reject null hypothesis ({baw}) in favor of alternative hypothesis ({ats}), with p-value = {pValue}\")\n",
    "else:\n",
    "    print(f\"d. Fail to reject null hypothesis ({baw}), with p-value = {pValue}\")"
   ]
  }
 ],
 "metadata": {
  "kernelspec": {
   "display_name": "Python 3",
   "language": "python",
   "name": "python3"
  },
  "language_info": {
   "codemirror_mode": {
    "name": "ipython",
    "version": 3
   },
   "file_extension": ".py",
   "mimetype": "text/x-python",
   "name": "python",
   "nbconvert_exporter": "python",
   "pygments_lexer": "ipython3",
   "version": "3.9.13"
  },
  "orig_nbformat": 4
 },
 "nbformat": 4,
 "nbformat_minor": 2
}
