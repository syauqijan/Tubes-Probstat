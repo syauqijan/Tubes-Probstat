{
 "cells": [
  {
   "cell_type": "markdown",
   "metadata": {},
   "source": [
    "### NO 5\n",
    "Melakukan test hipotesis 2 sampel"
   ]
  },
  {
   "cell_type": "code",
   "execution_count": 1,
   "metadata": {},
   "outputs": [],
   "source": [
    "import scipy.stats as st\n",
    "import pandas as pd\n",
    "import numpy as np\n",
    "import matplotlib.pyplot as plt\n",
    "from scipy.stats import norm\n",
    "from scipy.stats import f\n",
    "from statsmodels.stats.weightstats import ztest\n",
    "from statsmodels.stats.proportion import proportions_ztest\n"
   ]
  },
  {
   "cell_type": "code",
   "execution_count": 2,
   "metadata": {},
   "outputs": [
    {
     "data": {
      "text/html": [
       "<div>\n",
       "<style scoped>\n",
       "    .dataframe tbody tr th:only-of-type {\n",
       "        vertical-align: middle;\n",
       "    }\n",
       "\n",
       "    .dataframe tbody tr th {\n",
       "        vertical-align: top;\n",
       "    }\n",
       "\n",
       "    .dataframe thead th {\n",
       "        text-align: right;\n",
       "    }\n",
       "</style>\n",
       "<table border=\"1\" class=\"dataframe\">\n",
       "  <thead>\n",
       "    <tr style=\"text-align: right;\">\n",
       "      <th></th>\n",
       "      <th>fixed acidity</th>\n",
       "      <th>volatile acidity</th>\n",
       "      <th>citric acid</th>\n",
       "      <th>residual sugar</th>\n",
       "      <th>chlorides</th>\n",
       "      <th>free sulfur dioxide</th>\n",
       "      <th>total sulfur dioxide</th>\n",
       "      <th>density</th>\n",
       "      <th>pH</th>\n",
       "      <th>sulphates</th>\n",
       "      <th>alcohol</th>\n",
       "      <th>quality</th>\n",
       "    </tr>\n",
       "  </thead>\n",
       "  <tbody>\n",
       "    <tr>\n",
       "      <th>0</th>\n",
       "      <td>5.90</td>\n",
       "      <td>0.4451</td>\n",
       "      <td>0.1813</td>\n",
       "      <td>2.049401</td>\n",
       "      <td>0.070574</td>\n",
       "      <td>16.593818</td>\n",
       "      <td>42.27</td>\n",
       "      <td>0.9982</td>\n",
       "      <td>3.27</td>\n",
       "      <td>0.71</td>\n",
       "      <td>8.64</td>\n",
       "      <td>7</td>\n",
       "    </tr>\n",
       "    <tr>\n",
       "      <th>1</th>\n",
       "      <td>8.40</td>\n",
       "      <td>0.5768</td>\n",
       "      <td>0.2099</td>\n",
       "      <td>3.109590</td>\n",
       "      <td>0.101681</td>\n",
       "      <td>22.555519</td>\n",
       "      <td>16.01</td>\n",
       "      <td>0.9960</td>\n",
       "      <td>3.35</td>\n",
       "      <td>0.57</td>\n",
       "      <td>10.03</td>\n",
       "      <td>8</td>\n",
       "    </tr>\n",
       "    <tr>\n",
       "      <th>2</th>\n",
       "      <td>7.54</td>\n",
       "      <td>0.5918</td>\n",
       "      <td>0.3248</td>\n",
       "      <td>3.673744</td>\n",
       "      <td>0.072416</td>\n",
       "      <td>9.316866</td>\n",
       "      <td>35.52</td>\n",
       "      <td>0.9990</td>\n",
       "      <td>3.31</td>\n",
       "      <td>0.64</td>\n",
       "      <td>9.23</td>\n",
       "      <td>8</td>\n",
       "    </tr>\n",
       "    <tr>\n",
       "      <th>3</th>\n",
       "      <td>5.39</td>\n",
       "      <td>0.4201</td>\n",
       "      <td>0.3131</td>\n",
       "      <td>3.371815</td>\n",
       "      <td>0.072755</td>\n",
       "      <td>18.212300</td>\n",
       "      <td>41.97</td>\n",
       "      <td>0.9945</td>\n",
       "      <td>3.34</td>\n",
       "      <td>0.55</td>\n",
       "      <td>14.07</td>\n",
       "      <td>9</td>\n",
       "    </tr>\n",
       "    <tr>\n",
       "      <th>4</th>\n",
       "      <td>6.51</td>\n",
       "      <td>0.5675</td>\n",
       "      <td>0.1940</td>\n",
       "      <td>4.404723</td>\n",
       "      <td>0.066379</td>\n",
       "      <td>9.360591</td>\n",
       "      <td>46.27</td>\n",
       "      <td>0.9925</td>\n",
       "      <td>3.27</td>\n",
       "      <td>0.45</td>\n",
       "      <td>11.49</td>\n",
       "      <td>8</td>\n",
       "    </tr>\n",
       "  </tbody>\n",
       "</table>\n",
       "</div>"
      ],
      "text/plain": [
       "   fixed acidity  volatile acidity  citric acid  residual sugar  chlorides  \\\n",
       "0           5.90            0.4451       0.1813        2.049401   0.070574   \n",
       "1           8.40            0.5768       0.2099        3.109590   0.101681   \n",
       "2           7.54            0.5918       0.3248        3.673744   0.072416   \n",
       "3           5.39            0.4201       0.3131        3.371815   0.072755   \n",
       "4           6.51            0.5675       0.1940        4.404723   0.066379   \n",
       "\n",
       "   free sulfur dioxide  total sulfur dioxide  density    pH  sulphates  \\\n",
       "0            16.593818                 42.27   0.9982  3.27       0.71   \n",
       "1            22.555519                 16.01   0.9960  3.35       0.57   \n",
       "2             9.316866                 35.52   0.9990  3.31       0.64   \n",
       "3            18.212300                 41.97   0.9945  3.34       0.55   \n",
       "4             9.360591                 46.27   0.9925  3.27       0.45   \n",
       "\n",
       "   alcohol  quality  \n",
       "0     8.64        7  \n",
       "1    10.03        8  \n",
       "2     9.23        8  \n",
       "3    14.07        9  \n",
       "4    11.49        8  "
      ]
     },
     "execution_count": 2,
     "metadata": {},
     "output_type": "execute_result"
    }
   ],
   "source": [
    "df = pd.read_csv('../data/anggur.csv')\n",
    "df.head()"
   ]
  },
  {
   "attachments": {},
   "cell_type": "markdown",
   "metadata": {},
   "source": [
    "#### a) Data kolom fixed acidity dibagi 2 sama rata: bagian awal dan bagian akhir kolom. Benarkah rata-rata kedua bagian tersebut sama?"
   ]
  },
  {
   "attachments": {},
   "cell_type": "markdown",
   "metadata": {},
   "source": [
    "$H_0$: Nilai rata-rata data awal kolom fixed acidity sama dengan rata-rata data akhir kolom fixed acidity $(\\mu_1 = \\mu_2 )$\n",
    "\n",
    "$H_1$: Nilai rata-rata data awal kolom fixed acidity tidak sama dengan rata-rata data akhir kolom fixed acidity $(\\mu_1 \\ne \\mu_2 )$\n",
    "\n",
    "Ditentukan $\\alpha = 0.05$\n",
    "\n",
    "Lakukan pengujian two tailed test karena akan dicek pada bagian kiri dengan $z < -z_{\\alpha/2}$ serta bagian kanan dengan $z > z_{\\alpha/2}$  \n",
    "\n",
    "Hitung nilai z:\n",
    "$$ z = \\frac{(\\bar{x_1} - \\bar{x_2}) - (\\mu_1 - \\mu_2)}{\\sqrt{{\\sigma_1^2/n_1} + {\\sigma_2^2/n_2}}} $$\n",
    "\n",
    "Tolak $H_0$ jika $(z > z_{\\alpha/2}$ atau $z < -z_{\\alpha/2})$ dan $p < \\alpha$  \n",
    "Terima $H_0$ jika $-z_{\\alpha/2} \\le z \\le z_{\\alpha/2}$ dan $p \\ge \\alpha$"
   ]
  },
  {
   "cell_type": "code",
   "execution_count": 3,
   "metadata": {},
   "outputs": [
    {
     "name": "stdout",
     "output_type": "stream",
     "text": [
      "Nilai z: 0.026\n",
      "Nilai batas bawah: -1.96\n",
      "Nilai batas atas: 1.96\n",
      "Nilai p: 0.9792\n"
     ]
    },
    {
     "data": {
      "image/png": "[encoded data removed]",
      "text/plain": [
       "<Figure size 864x432 with 2 Axes>"
      ]
     },
     "metadata": {
      "needs_background": "light"
     },
     "output_type": "display_data"
    }
   ],
   "source": [
    "delta = 0 \n",
    "alpha = 0.05\n",
    "\n",
    "len_per2 = len(df) // 2\n",
    "data_beg = df[\"fixed acidity\"].iloc[:len_per2]\n",
    "data_end = df[\"fixed acidity\"].iloc[len_per2:]\n",
    "z, p = ztest(data_beg, data_end, value=delta)\n",
    "\n",
    "z_a = st.norm.ppf(1-alpha/2)\n",
    "\n",
    "print(f\"Nilai z: {round(z, 4)}\")\n",
    "print(f\"Nilai batas bawah: {round(-z_a, 4)}\")\n",
    "print(f\"Nilai batas atas: {round(z_a, 4)}\")\n",
    "print(f\"Nilai p: {round(p, 4)}\")\n",
    "fig, axs = plt.subplots(ncols=2, figsize=(12, 6))\n",
    "data_beg.plot(kind=\"box\", ax=axs[0])\n",
    "data_end.plot(kind=\"box\", ax=axs[1])\n",
    "plt.show()\n",
    "\n"
   ]
  },
  {
   "attachments": {},
   "cell_type": "markdown",
   "metadata": {},
   "source": [
    "Nilai $z$ berada di daerah kritis $-z_{\\alpha/2}$ dan $z_{\\alpha/2}$ $(-1.96<0.026 < 1.96)$  \n",
    "Nilai $p$ lebih besar dibandingkan $\\alpha$  $(0.9792 > 0.05)$  \n",
    "Maka terima $H_0$\n",
    "\n",
    "\n",
    "**Kesimpulan: rata-rata bagian awal dan akhir kolom fixed acidity adalah sama**"
   ]
  },
  {
   "attachments": {},
   "cell_type": "markdown",
   "metadata": {},
   "source": [
    "#### b) Data kolom chlorides dibagi 2 sama rata: bagian awal dan bagian akhir kolom. Benarkah rata-rata bagian awal lebih besar daripada bagian akhir sebesar 0.001?\n"
   ]
  },
  {
   "attachments": {},
   "cell_type": "markdown",
   "metadata": {},
   "source": [
    "$H_0$: Nilai rata-rata kolom awal chlorides sama dengan  kolom akhir chlorides sebesar ditambah 0.001 $(\\mu_1 = \\mu_2 + 0.001)$\n",
    "\n",
    "$H_1$: Nilai rata-rata kolom awal chlorides tidak sama dengan nilai rata-rata kolom akhir chlorides ditambah sebesar 0.001 $(\\mu_1 \\ne \\mu_2 + 0.001)$\n",
    "\n",
    "Ditentukan $\\alpha = 0.05$\n",
    "\n",
    "Lakukan pengujian two tailed test karena akan dicek pada bagian kiri dengan $z < -z_{\\alpha/2}$ serta bagian kanan dengan $z > z_{\\alpha/2}$  \n",
    "\n",
    "Hitung nilai z:\n",
    "$$ z = \\frac{(\\bar{x_1} - \\bar{x_2}) - (\\mu_1 - \\mu_2)}{\\sqrt{{\\sigma_1^2/n_1} + {\\sigma_2^2/n_2}}} $$\n",
    "\n",
    "Tolak $H_0$ jika $(z > z_{\\alpha/2}$ atau $z < -z_{\\alpha/2})$ dan $p < \\alpha$  \n",
    "Terima $H_0$ jika $-z_{\\alpha/2} \\le z \\le z_{\\alpha/2}$ dan $p \\ge \\alpha$"
   ]
  },
  {
   "cell_type": "code",
   "execution_count": 4,
   "metadata": {},
   "outputs": [
    {
     "name": "stdout",
     "output_type": "stream",
     "text": [
      "Nilai z: -0.4673\n",
      "Nilai batas bawah: -1.96\n",
      "Nilai batas atas: 1.96\n",
      "Nilai p: 0.6403\n"
     ]
    },
    {
     "data": {
      "image/png": "[encoded data removed]",
      "text/plain": [
       "<Figure size 864x432 with 2 Axes>"
      ]
     },
     "metadata": {
      "needs_background": "light"
     },
     "output_type": "display_data"
    }
   ],
   "source": [
    "delta = 0.001\n",
    "alpha = 0.05\n",
    "\n",
    "len_per2 = len(df) // 2\n",
    "data_beg = df[\"chlorides\"][:len_per2]\n",
    "data_end = df[\"chlorides\"][len_per2 :]\n",
    "z, p = ztest(data_beg, data_end, value=delta)\n",
    "\n",
    "z_a = st.norm.ppf(1-alpha/2)\n",
    "\n",
    "print(f\"Nilai z: {round(z, 4)}\")\n",
    "print(f\"Nilai batas bawah: {round(-z_a, 4)}\")\n",
    "print(f\"Nilai batas atas: {round(z_a, 4)}\")\n",
    "print(f\"Nilai p: {round(p, 4)}\")\n",
    "\n",
    "fig, axs = plt.subplots(ncols=2, figsize=(12, 6))\n",
    "data_beg.plot(kind=\"box\", ax=axs[0])\n",
    "data_end.plot(kind=\"box\", ax=axs[1])\n",
    "plt.show()\n"
   ]
  },
  {
   "attachments": {},
   "cell_type": "markdown",
   "metadata": {},
   "source": [
    "Nilai $z$ berada di daerah kritis $-z_{\\alpha/2}$ dan $z_{\\alpha/2}$ $(-1.96< -0.4673 < 1.96)$  \n",
    "Nilai $p$ lebih besar dibandingkan $\\alpha$  $(0.6403 > 0.05)$  \n",
    "Maka terima $H_0$\n",
    "\n",
    "**Kesimpulan: bagian awal dan bagian akhir kolom chlorides memiliki rata - rata bagian awal lebih besar daripada bagian akhir sebesar 0.001**"
   ]
  },
  {
   "attachments": {},
   "cell_type": "markdown",
   "metadata": {},
   "source": [
    "#### c)  Benarkah rata-rata sampel 25 baris pertama kolom Volatile Acidity sama dengan rata-rata 25 baris pertama kolom Sulphates ?\n"
   ]
  },
  {
   "attachments": {},
   "cell_type": "markdown",
   "metadata": {},
   "source": [
    "$H_0$: Nilai rata-rata 25 baris pertama kolom volatile acidity sama dengan rata-rata 25 baris kolom akhir sulphates $(\\mu_1 = \\mu_2 )$\n",
    "\n",
    "$H_1$: Nilai rata-rata 25 baris pertama kolom volatile acidity tidak sama dengan rata-rata 25 baris kolom akhir sulphates $(\\mu_1 \\ne \\mu_2 )$\n",
    "\n",
    "Ditentukan $\\alpha = 0.05$\n",
    "\n",
    "Lakukan pengujian two tailed test karena akan dicek pada bagian kiri dengan $z < -z_{\\alpha/2}$ serta bagian kanan dengan $z > z_{\\alpha/2}$  \n",
    "\n",
    "Hitung nilai z:\n",
    "$$ z = \\frac{(\\bar{x_1} - \\bar{x_2}) - (\\mu_1 - \\mu_2)}{\\sqrt{{\\sigma_1^2/n_1} + {\\sigma_2^2/n_2}}} $$\n",
    "\n",
    "Tolak $H_0$ jika $(z > z_{\\alpha/2}$ atau $z < -z_{\\alpha/2})$ dan $p < \\alpha$  \n",
    "Terima $H_0$ jika $-z_{\\alpha/2} \\le z \\le z_{\\alpha/2}$ dan $p \\ge \\alpha$"
   ]
  },
  {
   "cell_type": "code",
   "execution_count": 5,
   "metadata": {},
   "outputs": [
    {
     "name": "stdout",
     "output_type": "stream",
     "text": [
      "Nilai z: -2.6375\n",
      "Nilai batas bawah: -1.96\n",
      "Nilai batas atas: 1.96\n",
      "Nilai p: 0.0084\n"
     ]
    },
    {
     "data": {
      "image/png": "[encoded data removed]",
      "text/plain": [
       "<Figure size 864x432 with 2 Axes>"
      ]
     },
     "metadata": {
      "needs_background": "light"
     },
     "output_type": "display_data"
    }
   ],
   "source": [
    "delta = 0\n",
    "alpha = 0.05\n",
    "\n",
    "data_beg = df[\"volatile acidity\"].head(25)\n",
    "data_end = df[\"sulphates\"].head(25)\n",
    "z, p = ztest(data_beg,data_end, value=delta)\n",
    "\n",
    "z_a = st.norm.ppf(1-alpha/2)\n",
    "\n",
    "print(f\"Nilai z: {round(z, 4)}\")\n",
    "print(f\"Nilai batas bawah: {round(-z_a, 4)}\")\n",
    "print(f\"Nilai batas atas: {round(z_a, 4)}\")\n",
    "print(f\"Nilai p: {round(p, 4)}\")\n",
    "\n",
    "fig, axs = plt.subplots(ncols=2, figsize=(12, 6))\n",
    "data_beg.plot(kind=\"box\", ax=axs[0])\n",
    "data_end.plot(kind=\"box\", ax=axs[1])\n",
    "plt.show()"
   ]
  },
  {
   "attachments": {},
   "cell_type": "markdown",
   "metadata": {},
   "source": [
    "Nilai $z$ lebih kecil dibandingkan $-z_{\\alpha/2}$ $( -2.6375 < -1.96)$  \n",
    "Nilai $p$ lebih kecil dibandingkan $\\alpha$  $(0.0084 < 0.05)$  \n",
    "Maka tolak $H_0$\n",
    "\n",
    "**Kesimpulan: Rata-rata 25 baris pertama kolom volatile acidity tidak sama dengan 25 baris pertama kolom sulphates**"
   ]
  },
  {
   "attachments": {},
   "cell_type": "markdown",
   "metadata": {},
   "source": [
    "#### d) Bagian awal kolom residual sugar memiliki variansi yang sama dengan bagian akhirnya?"
   ]
  },
  {
   "attachments": {},
   "cell_type": "markdown",
   "metadata": {},
   "source": [
    "$H_0$: Variansi bagian awal kolom residual sugar memiliki nilai yang sama dengan bagian akhir kolom residual sugar $(\\sigma_1^2 = \\sigma_2^2)$\n",
    "\n",
    "$H_1$: Variansi bagian awal kolom residual sugar memiliki nilai yang berbeda dengan bagian akhir kolom residual sugar $(\\sigma_1^2 \\ne \\sigma_2^2)$\n",
    "\n",
    "Ditentukan $\\alpha = 0.05$\n",
    "\n",
    "Lakukan pengujian two tailed f test karena akan dicek pada bagian kanan dengan $f > f_{\\alpha/2}(v_1,v_2)$ dan bagian kiri pada $f < {f_{1-\\alpha/2}(v_1, v_2)}$\n",
    "\n",
    "Hitung nilai f:\n",
    "$$ f = \\frac{s_1^2}{s_2^2} $$\n",
    "\n",
    "dengan nilai $v_1$ dan $v_2$:\n",
    "$$ v_1 = n_1 - 1, v_2 = n_2 - 2$$\n",
    "\n",
    "Tolak $H_0$ jika $f > f_{\\alpha/2}(v_1,v_2)$ atau $f < {f_{1-\\alpha/2}(v_1, v_2)}$ dan $p < \\alpha$  \n",
    "Terima $H_0$ jika ${f_{1-\\alpha/2}(v_1, v_2) \\le f \\le f_{\\alpha/2}(v_1,v_2)}$  dan $p \\ge \\alpha$\n"
   ]
  },
  {
   "cell_type": "code",
   "execution_count": 6,
   "metadata": {},
   "outputs": [
    {
     "name": "stdout",
     "output_type": "stream",
     "text": [
      "Nilai f: 0.942\n",
      "Nilai batas atas: 1.1921\n",
      "Nilai batas bawah: 0.8389\n",
      "Nilai p: 0.7476\n"
     ]
    },
    {
     "data": {
      "image/png": "[encoded data removed]",
      "text/plain": [
       "<Figure size 864x432 with 2 Axes>"
      ]
     },
     "metadata": {
      "needs_background": "light"
     },
     "output_type": "display_data"
    }
   ],
   "source": [
    "alpha = 0.05\n",
    "len_per2 = len(df) // 2\n",
    "data_beg = df[\"residual sugar\"].iloc[:len_per2]\n",
    "data_end = df[\"residual sugar\"].iloc[len_per2:]\n",
    "v1 = len(data_beg) - 1\n",
    "v2 = len(data_end) - 1\n",
    "\n",
    "f_stat = np.var(data_beg) / np.var(data_end)\n",
    "f_crit_upper = f.ppf(1 - alpha / 2, v1, v2)\n",
    "f_crit_lower = f.ppf(alpha / 2, v1, v2)\n",
    "p_value = 1 - f.cdf(f_stat, v1, v2)\n",
    "\n",
    "print(\"Nilai f:\", round(f_stat, 4))\n",
    "print(\"Nilai batas atas:\", round(f_crit_upper, 4))\n",
    "print(\"Nilai batas bawah:\", round(f_crit_lower, 4))\n",
    "print(\"Nilai p:\", round(p_value, 4))\n",
    "\n",
    "fig, axs = plt.subplots(ncols=2, figsize=(12, 6))\n",
    "data_beg.plot(kind=\"box\", ax=axs[0])\n",
    "data_end.plot(kind=\"box\", ax=axs[1])\n",
    "plt.show()\n",
    "\n"
   ]
  },
  {
   "attachments": {},
   "cell_type": "markdown",
   "metadata": {},
   "source": [
    "Nilai $f$ berada pada range ${f_{1-\\alpha/2}(v_1, v_2) \\le f \\le f_{\\alpha/2}(v_1,v_2)}$ $(0.8836 < 0.942 < 1.1318)$  \n",
    "Nilai $p$ lebih besar dibandingkan $\\alpha$  $(0.7476 > 0.05)$  \n",
    "Maka terima $H_0$\n",
    "\n",
    "**Kesimpulan: Variansi bagian awal kolom residual sugar memiliki nilai yang sama dengan bagian akhir residual sugar**"
   ]
  },
  {
   "attachments": {},
   "cell_type": "markdown",
   "metadata": {},
   "source": [
    "#### e) Proporsi nilai setengah bagian awal alcohol yang lebih dari 7, adalah lebih besar daripada, proporsi nilai yang sama di setengah bagian akhir alcohol?\n"
   ]
  },
  {
   "attachments": {},
   "cell_type": "markdown",
   "metadata": {},
   "source": [
    "$H_0$: Proporsi nilai setengah bagian awal alcohol yang lebih dari 7 sama dengan proporsi nilai setengah bagian akhir alcohol $(p_1 = p_2 )$\n",
    "\n",
    "$H_1$: Proporsi nilai setengah bagian awal alcohol yang lebih dari 7 lebih dari proporsi nilai setengah bagian akhir alcohol $(p_1 > p_2)$\n",
    "\n",
    "Ditentukan $\\alpha = 0.05$\n",
    "\n",
    "Lakukan pengujian one tailed test karena akan dicek pada bagian kanan dengan $z > z_{\\alpha}$  \n",
    "\n",
    "Hitung nilai z:\n",
    "$$ z = \\frac{\\hat{p_1} - \\hat{p_2}}{\\sqrt{\\hat{p}\\hat{q}({1/n_1} + {1/n_2})}} $$\n",
    "\n",
    "dengan nilai $\\hat{p}$:\n",
    "$$ \\hat{p} = \\frac{x_1 + x_2}{n_1 + n_2}, \\hat{q} = 1 - \\hat{p}$$\n",
    "\n",
    "Tolak $H_0$ jika $z > z_{\\alpha}$ dan $p < \\alpha$  \n",
    "Terima $H_0$ jika $z \\le z_{\\alpha}$ dan $p \\ge \\alpha$"
   ]
  },
  {
   "cell_type": "code",
   "execution_count": 7,
   "metadata": {},
   "outputs": [
    {
     "name": "stdout",
     "output_type": "stream",
     "text": [
      "Nilai z: 0.0\n",
      "Nilai z_alpha: 1.6449\n",
      "Nilai p: 1.0\n"
     ]
    },
    {
     "data": {
      "image/png": "[encoded data removed]",
      "text/plain": [
       "<Figure size 864x432 with 2 Axes>"
      ]
     },
     "metadata": {
      "needs_background": "light"
     },
     "output_type": "display_data"
    }
   ],
   "source": [
    "\n",
    "delta = 0\n",
    "alpha = 0.05\n",
    "\n",
    "len_per2 = len(df) // 2\n",
    "data_beg = df.iloc[:len_per2]\n",
    "data_end = df.iloc[len_per2:]\n",
    "\n",
    "count1 = len(data_beg[data_beg[\"alcohol\"] > 7])\n",
    "count2 = len(data_end[data_end[\"alcohol\"] > 7])\n",
    "nobs1 = len(data_beg)\n",
    "nobs2 = len(data_end)\n",
    "count = np.array([count1, count2])\n",
    "nobs = np.array([nobs1, nobs2])\n",
    "z, p = proportions_ztest(count, nobs, value=delta, prop_var=delta)\n",
    "\n",
    "z_a = norm.ppf(1 - alpha )\n",
    "\n",
    "print(\"Nilai z:\", round(z, 4))\n",
    "print(\"Nilai z_alpha:\", round(z_a, 4))\n",
    "print(\"Nilai p:\", round(p, 4))\n",
    "\n",
    "fig, axs = plt.subplots(ncols=2, figsize=(12, 6))\n",
    "data_beg.boxplot(column=\"alcohol\", ax=axs[0])\n",
    "data_end.boxplot(column=\"alcohol\", ax=axs[1])\n",
    "plt.show()\n"
   ]
  },
  {
   "attachments": {},
   "cell_type": "markdown",
   "metadata": {},
   "source": [
    "Nilai $z$ kurang dari $z_{\\alpha}$ $(0.0 \\le 1.6449)$  \n",
    "Nilai $p$ lebih besar dibandingkan $\\alpha$  $(1.0 > 0.05)$  \n",
    "Maka terima $H_0$\n",
    "\n",
    "**Kesimpulan: Proporsi nilai setengah bagian awal alcohol yang lebih dari 4 sama dengan proporsi nilai bagian akhir alcohol**\n"
   ]
  }
 ],
 "metadata": {
  "interpreter": {
   "hash": "b5d60f89743eeca39aa0845c4994027250480cef9f28ddce065d1fe0a8ddd96c"
  },
  "kernelspec": {
   "display_name": "Python 3.8.8 64-bit ('base': conda)",
   "name": "python3"
  },
  "language_info": {
   "codemirror_mode": {
    "name": "ipython",
    "version": 3
   },
   "file_extension": ".py",
   "mimetype": "text/x-python",
   "name": "python",
   "nbconvert_exporter": "python",
   "pygments_lexer": "ipython3",
   "version": "3.9.6"
  },
  "orig_nbformat": 4
 },
 "nbformat": 4,
 "nbformat_minor": 2
}
